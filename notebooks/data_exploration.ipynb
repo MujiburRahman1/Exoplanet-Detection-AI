{
  "cells": [
    {
      "cell_type": "markdown",
      "metadata": {},
      "source": [
        "# Exoplanet Data Exploration\n",
        "\n",
        "This notebook explores the NASA exoplanet datasets (Kepler, K2, TESS) and prepares them for machine learning.\n",
        "\n",
        "## Datasets:\n",
        "- **Kepler Objects of Interest (KOI)**: Confirmed exoplanets, candidates, and false positives\n",
        "- **TESS Objects of Interest (TOI)**: TESS mission data\n",
        "- **K2 Planets and Candidates**: K2 mission data\n"
      ]
    },
    {
      "cell_type": "code",
      "execution_count": null,
      "metadata": {},
      "outputs": [],
      "source": [
        "# Import necessary libraries\n",
        "import pandas as pd\n",
        "import numpy as np\n",
        "import matplotlib.pyplot as plt\n",
        "import seaborn as sns\n",
        "from pathlib import Path\n",
        "import warnings\n",
        "warnings.filterwarnings('ignore')\n",
        "\n",
        "# Set plotting style\n",
        "plt.style.use('seaborn-v0_8')\n",
        "sns.set_palette(\"husl\")\n",
        "\n",
        "# Import our custom data loader\n",
        "import sys\n",
        "sys.path.append('..')\n",
        "from src.data.data_loader import ExoplanetDataLoader\n"
      ]
    }
  ],
  "metadata": {
    "language_info": {
      "name": "python"
    }
  },
  "nbformat": 4,
  "nbformat_minor": 2
}
